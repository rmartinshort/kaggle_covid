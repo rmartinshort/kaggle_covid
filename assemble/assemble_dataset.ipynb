{
 "cells": [
  {
   "cell_type": "markdown",
   "metadata": {},
   "source": [
    "### Assemble COVID19 articles with IDs, abstracts and full texts"
   ]
  },
  {
   "cell_type": "code",
   "execution_count": 2,
   "metadata": {},
   "outputs": [],
   "source": [
    "import pandas as pd\n",
    "import numpy as np\n",
    "import json\n",
    "import glob"
   ]
  },
  {
   "cell_type": "code",
   "execution_count": 65,
   "metadata": {},
   "outputs": [],
   "source": [
    "latest_data_path = \"/Users/rmartinshort/Documents/DS_projects/covid/dataset/2020-03-13\""
   ]
  },
  {
   "cell_type": "code",
   "execution_count": 66,
   "metadata": {},
   "outputs": [],
   "source": [
    "sourcefiles = glob.glob(\"{}/*\".format(data_source))"
   ]
  },
  {
   "cell_type": "code",
   "execution_count": 69,
   "metadata": {},
   "outputs": [
    {
     "data": {
      "text/plain": [
       "['../dataset/2020-03-13/pmc_custom_license',\n",
       " '../dataset/2020-03-13/json_schema.txt',\n",
       " '../dataset/2020-03-13/noncomm_use_subset',\n",
       " '../dataset/2020-03-13/all_sources_metadata_2020-03-13.csv',\n",
       " '../dataset/2020-03-13/all_sources_metadata_2020-03-13.readme',\n",
       " '../dataset/2020-03-13/biorxiv_medrxiv',\n",
       " '../dataset/2020-03-13/COVID.DATA.LIC.AGMT.pdf',\n",
       " '../dataset/2020-03-13/comm_use_subset']"
      ]
     },
     "execution_count": 69,
     "metadata": {},
     "output_type": "execute_result"
    }
   ],
   "source": [
    "sourcefiles"
   ]
  },
  {
   "cell_type": "code",
   "execution_count": 68,
   "metadata": {},
   "outputs": [
    {
     "data": {
      "text/plain": [
       "'/Users/rmartinshort/Documents/DS_projects/covid/dataset/2020-03-13'"
      ]
     },
     "execution_count": 68,
     "metadata": {},
     "output_type": "execute_result"
    }
   ],
   "source": [
    "latest_data_path"
   ]
  },
  {
   "cell_type": "markdown",
   "metadata": {},
   "source": [
    "### Take a look at the metadata file \n",
    "\n",
    "Also see https://www.kaggle.com/tanulsingh077/a-comprehensive-resource-notebook-for-beginners"
   ]
  },
  {
   "cell_type": "code",
   "execution_count": 75,
   "metadata": {},
   "outputs": [],
   "source": [
    "metafile = sorted([f for f in sourcefiles if \"metadata\" in f])[0]"
   ]
  },
  {
   "cell_type": "code",
   "execution_count": 76,
   "metadata": {},
   "outputs": [],
   "source": [
    "metadata = pd.read_csv(metafile)"
   ]
  },
  {
   "cell_type": "code",
   "execution_count": 77,
   "metadata": {},
   "outputs": [
    {
     "data": {
      "text/plain": [
       "sha                            12080\n",
       "source_x                           0\n",
       "title                            370\n",
       "doi                             3143\n",
       "pmcid                           2163\n",
       "pubmed_id                      12770\n",
       "license                        11808\n",
       "abstract                        2947\n",
       "publish_time                   11252\n",
       "authors                          946\n",
       "journal                        11709\n",
       "Microsoft Academic Paper ID    28366\n",
       "WHO #Covidence                 28264\n",
       "has_full_text                  12080\n",
       "dtype: int64"
      ]
     },
     "execution_count": 77,
     "metadata": {},
     "output_type": "execute_result"
    }
   ],
   "source": [
    "metadata.isna().sum()"
   ]
  },
  {
   "cell_type": "code",
   "execution_count": 78,
   "metadata": {},
   "outputs": [],
   "source": [
    "def detect_time_format(input_time_string):\n",
    "    \n",
    "    \"\"\"\n",
    "    Fix the format of the publish_time column so\n",
    "    that pd.datetime can read it\n",
    "    \"\"\"\n",
    "    \n",
    "    return 0\n",
    "    "
   ]
  },
  {
   "cell_type": "code",
   "execution_count": 81,
   "metadata": {},
   "outputs": [],
   "source": [
    "def doi_url(d):\n",
    "    \n",
    "    \"\"\"\n",
    "    Create links to the DOIs so that papers \n",
    "    can be found online \n",
    "    \"\"\"\n",
    "    \n",
    "    if d.startswith('http://'):\n",
    "        return d\n",
    "    elif d.startswith('doi.org'):\n",
    "        return f'http://{d}'\n",
    "    else:\n",
    "        return f'http://doi.org/{d}'"
   ]
  },
  {
   "cell_type": "code",
   "execution_count": 79,
   "metadata": {},
   "outputs": [
    {
     "data": {
      "text/plain": [
       "0        2020\n",
       "1        2020\n",
       "2        2020\n",
       "3        2020\n",
       "4        2020\n",
       "         ... \n",
       "29495     NaN\n",
       "29496     NaN\n",
       "29497     NaN\n",
       "29498     NaN\n",
       "29499     NaN\n",
       "Name: publish_time, Length: 29500, dtype: object"
      ]
     },
     "execution_count": 79,
     "metadata": {},
     "output_type": "execute_result"
    }
   ],
   "source": [
    "metadata[\"publish_time\"]"
   ]
  },
  {
   "cell_type": "code",
   "execution_count": 80,
   "metadata": {},
   "outputs": [
    {
     "data": {
      "text/html": [
       "<div>\n",
       "<style scoped>\n",
       "    .dataframe tbody tr th:only-of-type {\n",
       "        vertical-align: middle;\n",
       "    }\n",
       "\n",
       "    .dataframe tbody tr th {\n",
       "        vertical-align: top;\n",
       "    }\n",
       "\n",
       "    .dataframe thead th {\n",
       "        text-align: right;\n",
       "    }\n",
       "</style>\n",
       "<table border=\"1\" class=\"dataframe\">\n",
       "  <thead>\n",
       "    <tr style=\"text-align: right;\">\n",
       "      <th></th>\n",
       "      <th>sha</th>\n",
       "      <th>source_x</th>\n",
       "      <th>title</th>\n",
       "      <th>doi</th>\n",
       "      <th>pmcid</th>\n",
       "      <th>pubmed_id</th>\n",
       "      <th>license</th>\n",
       "      <th>abstract</th>\n",
       "      <th>publish_time</th>\n",
       "      <th>authors</th>\n",
       "      <th>journal</th>\n",
       "      <th>Microsoft Academic Paper ID</th>\n",
       "      <th>WHO #Covidence</th>\n",
       "      <th>has_full_text</th>\n",
       "    </tr>\n",
       "  </thead>\n",
       "  <tbody>\n",
       "    <tr>\n",
       "      <th>count</th>\n",
       "      <td>17420</td>\n",
       "      <td>29500</td>\n",
       "      <td>29130</td>\n",
       "      <td>26357</td>\n",
       "      <td>27337</td>\n",
       "      <td>1.673000e+04</td>\n",
       "      <td>17692</td>\n",
       "      <td>26553</td>\n",
       "      <td>18248</td>\n",
       "      <td>28554</td>\n",
       "      <td>17791</td>\n",
       "      <td>1.134000e+03</td>\n",
       "      <td>1236</td>\n",
       "      <td>17420</td>\n",
       "    </tr>\n",
       "    <tr>\n",
       "      <th>unique</th>\n",
       "      <td>17398</td>\n",
       "      <td>4</td>\n",
       "      <td>24654</td>\n",
       "      <td>22203</td>\n",
       "      <td>23222</td>\n",
       "      <td>NaN</td>\n",
       "      <td>15</td>\n",
       "      <td>22453</td>\n",
       "      <td>4499</td>\n",
       "      <td>23860</td>\n",
       "      <td>1732</td>\n",
       "      <td>NaN</td>\n",
       "      <td>1223</td>\n",
       "      <td>2</td>\n",
       "    </tr>\n",
       "    <tr>\n",
       "      <th>top</th>\n",
       "      <td>72a5640aa0c307fbe171ca7ad55d3fda48b53988</td>\n",
       "      <td>PMC</td>\n",
       "      <td>Articles of Significant Interest Selected from...</td>\n",
       "      <td>http://dx.doi.org/10.1371/journal.pcbi.1006483</td>\n",
       "      <td>PMC6224041</td>\n",
       "      <td>NaN</td>\n",
       "      <td>CC BY</td>\n",
       "      <td>The automated comparison of protein-ligand bin...</td>\n",
       "      <td>2020</td>\n",
       "      <td>['Ehrt, Christiane', 'Brinkjost, Tobias', 'Koc...</td>\n",
       "      <td>PLoS One</td>\n",
       "      <td>NaN</td>\n",
       "      <td>#1890</td>\n",
       "      <td>True</td>\n",
       "    </tr>\n",
       "    <tr>\n",
       "      <th>freq</th>\n",
       "      <td>4</td>\n",
       "      <td>27337</td>\n",
       "      <td>67</td>\n",
       "      <td>35</td>\n",
       "      <td>35</td>\n",
       "      <td>NaN</td>\n",
       "      <td>11575</td>\n",
       "      <td>35</td>\n",
       "      <td>1148</td>\n",
       "      <td>35</td>\n",
       "      <td>2204</td>\n",
       "      <td>NaN</td>\n",
       "      <td>2</td>\n",
       "      <td>13219</td>\n",
       "    </tr>\n",
       "    <tr>\n",
       "      <th>mean</th>\n",
       "      <td>NaN</td>\n",
       "      <td>NaN</td>\n",
       "      <td>NaN</td>\n",
       "      <td>NaN</td>\n",
       "      <td>NaN</td>\n",
       "      <td>2.626759e+07</td>\n",
       "      <td>NaN</td>\n",
       "      <td>NaN</td>\n",
       "      <td>NaN</td>\n",
       "      <td>NaN</td>\n",
       "      <td>NaN</td>\n",
       "      <td>2.697968e+09</td>\n",
       "      <td>NaN</td>\n",
       "      <td>NaN</td>\n",
       "    </tr>\n",
       "    <tr>\n",
       "      <th>std</th>\n",
       "      <td>NaN</td>\n",
       "      <td>NaN</td>\n",
       "      <td>NaN</td>\n",
       "      <td>NaN</td>\n",
       "      <td>NaN</td>\n",
       "      <td>4.697935e+06</td>\n",
       "      <td>NaN</td>\n",
       "      <td>NaN</td>\n",
       "      <td>NaN</td>\n",
       "      <td>NaN</td>\n",
       "      <td>NaN</td>\n",
       "      <td>4.873586e+08</td>\n",
       "      <td>NaN</td>\n",
       "      <td>NaN</td>\n",
       "    </tr>\n",
       "    <tr>\n",
       "      <th>min</th>\n",
       "      <td>NaN</td>\n",
       "      <td>NaN</td>\n",
       "      <td>NaN</td>\n",
       "      <td>NaN</td>\n",
       "      <td>NaN</td>\n",
       "      <td>6.717300e+04</td>\n",
       "      <td>NaN</td>\n",
       "      <td>NaN</td>\n",
       "      <td>NaN</td>\n",
       "      <td>NaN</td>\n",
       "      <td>NaN</td>\n",
       "      <td>3.912630e+07</td>\n",
       "      <td>NaN</td>\n",
       "      <td>NaN</td>\n",
       "    </tr>\n",
       "    <tr>\n",
       "      <th>25%</th>\n",
       "      <td>NaN</td>\n",
       "      <td>NaN</td>\n",
       "      <td>NaN</td>\n",
       "      <td>NaN</td>\n",
       "      <td>NaN</td>\n",
       "      <td>2.363481e+07</td>\n",
       "      <td>NaN</td>\n",
       "      <td>NaN</td>\n",
       "      <td>NaN</td>\n",
       "      <td>NaN</td>\n",
       "      <td>NaN</td>\n",
       "      <td>2.366820e+09</td>\n",
       "      <td>NaN</td>\n",
       "      <td>NaN</td>\n",
       "    </tr>\n",
       "    <tr>\n",
       "      <th>50%</th>\n",
       "      <td>NaN</td>\n",
       "      <td>NaN</td>\n",
       "      <td>NaN</td>\n",
       "      <td>NaN</td>\n",
       "      <td>NaN</td>\n",
       "      <td>2.704658e+07</td>\n",
       "      <td>NaN</td>\n",
       "      <td>NaN</td>\n",
       "      <td>NaN</td>\n",
       "      <td>NaN</td>\n",
       "      <td>NaN</td>\n",
       "      <td>3.002534e+09</td>\n",
       "      <td>NaN</td>\n",
       "      <td>NaN</td>\n",
       "    </tr>\n",
       "    <tr>\n",
       "      <th>75%</th>\n",
       "      <td>NaN</td>\n",
       "      <td>NaN</td>\n",
       "      <td>NaN</td>\n",
       "      <td>NaN</td>\n",
       "      <td>NaN</td>\n",
       "      <td>2.995128e+07</td>\n",
       "      <td>NaN</td>\n",
       "      <td>NaN</td>\n",
       "      <td>NaN</td>\n",
       "      <td>NaN</td>\n",
       "      <td>NaN</td>\n",
       "      <td>3.005536e+09</td>\n",
       "      <td>NaN</td>\n",
       "      <td>NaN</td>\n",
       "    </tr>\n",
       "    <tr>\n",
       "      <th>max</th>\n",
       "      <td>NaN</td>\n",
       "      <td>NaN</td>\n",
       "      <td>NaN</td>\n",
       "      <td>NaN</td>\n",
       "      <td>NaN</td>\n",
       "      <td>1.347697e+08</td>\n",
       "      <td>NaN</td>\n",
       "      <td>NaN</td>\n",
       "      <td>NaN</td>\n",
       "      <td>NaN</td>\n",
       "      <td>NaN</td>\n",
       "      <td>3.006672e+09</td>\n",
       "      <td>NaN</td>\n",
       "      <td>NaN</td>\n",
       "    </tr>\n",
       "  </tbody>\n",
       "</table>\n",
       "</div>"
      ],
      "text/plain": [
       "                                             sha source_x  \\\n",
       "count                                      17420    29500   \n",
       "unique                                     17398        4   \n",
       "top     72a5640aa0c307fbe171ca7ad55d3fda48b53988      PMC   \n",
       "freq                                           4    27337   \n",
       "mean                                         NaN      NaN   \n",
       "std                                          NaN      NaN   \n",
       "min                                          NaN      NaN   \n",
       "25%                                          NaN      NaN   \n",
       "50%                                          NaN      NaN   \n",
       "75%                                          NaN      NaN   \n",
       "max                                          NaN      NaN   \n",
       "\n",
       "                                                    title  \\\n",
       "count                                               29130   \n",
       "unique                                              24654   \n",
       "top     Articles of Significant Interest Selected from...   \n",
       "freq                                                   67   \n",
       "mean                                                  NaN   \n",
       "std                                                   NaN   \n",
       "min                                                   NaN   \n",
       "25%                                                   NaN   \n",
       "50%                                                   NaN   \n",
       "75%                                                   NaN   \n",
       "max                                                   NaN   \n",
       "\n",
       "                                                   doi       pmcid  \\\n",
       "count                                            26357       27337   \n",
       "unique                                           22203       23222   \n",
       "top     http://dx.doi.org/10.1371/journal.pcbi.1006483  PMC6224041   \n",
       "freq                                                35          35   \n",
       "mean                                               NaN         NaN   \n",
       "std                                                NaN         NaN   \n",
       "min                                                NaN         NaN   \n",
       "25%                                                NaN         NaN   \n",
       "50%                                                NaN         NaN   \n",
       "75%                                                NaN         NaN   \n",
       "max                                                NaN         NaN   \n",
       "\n",
       "           pubmed_id license  \\\n",
       "count   1.673000e+04   17692   \n",
       "unique           NaN      15   \n",
       "top              NaN   CC BY   \n",
       "freq             NaN   11575   \n",
       "mean    2.626759e+07     NaN   \n",
       "std     4.697935e+06     NaN   \n",
       "min     6.717300e+04     NaN   \n",
       "25%     2.363481e+07     NaN   \n",
       "50%     2.704658e+07     NaN   \n",
       "75%     2.995128e+07     NaN   \n",
       "max     1.347697e+08     NaN   \n",
       "\n",
       "                                                 abstract publish_time  \\\n",
       "count                                               26553        18248   \n",
       "unique                                              22453         4499   \n",
       "top     The automated comparison of protein-ligand bin...         2020   \n",
       "freq                                                   35         1148   \n",
       "mean                                                  NaN          NaN   \n",
       "std                                                   NaN          NaN   \n",
       "min                                                   NaN          NaN   \n",
       "25%                                                   NaN          NaN   \n",
       "50%                                                   NaN          NaN   \n",
       "75%                                                   NaN          NaN   \n",
       "max                                                   NaN          NaN   \n",
       "\n",
       "                                                  authors   journal  \\\n",
       "count                                               28554     17791   \n",
       "unique                                              23860      1732   \n",
       "top     ['Ehrt, Christiane', 'Brinkjost, Tobias', 'Koc...  PLoS One   \n",
       "freq                                                   35      2204   \n",
       "mean                                                  NaN       NaN   \n",
       "std                                                   NaN       NaN   \n",
       "min                                                   NaN       NaN   \n",
       "25%                                                   NaN       NaN   \n",
       "50%                                                   NaN       NaN   \n",
       "75%                                                   NaN       NaN   \n",
       "max                                                   NaN       NaN   \n",
       "\n",
       "        Microsoft Academic Paper ID WHO #Covidence has_full_text  \n",
       "count                  1.134000e+03           1236         17420  \n",
       "unique                          NaN           1223             2  \n",
       "top                             NaN          #1890          True  \n",
       "freq                            NaN              2         13219  \n",
       "mean                   2.697968e+09            NaN           NaN  \n",
       "std                    4.873586e+08            NaN           NaN  \n",
       "min                    3.912630e+07            NaN           NaN  \n",
       "25%                    2.366820e+09            NaN           NaN  \n",
       "50%                    3.002534e+09            NaN           NaN  \n",
       "75%                    3.005536e+09            NaN           NaN  \n",
       "max                    3.006672e+09            NaN           NaN  "
      ]
     },
     "execution_count": 80,
     "metadata": {},
     "output_type": "execute_result"
    }
   ],
   "source": [
    "metadata.describe(include=\"all\")"
   ]
  },
  {
   "cell_type": "code",
   "execution_count": 31,
   "metadata": {},
   "outputs": [],
   "source": [
    "metadata.drop_duplicates(subset=[\"title\"]).drop_duplicates(subset=[\"sha\"],inplace=True)"
   ]
  },
  {
   "cell_type": "code",
   "execution_count": 29,
   "metadata": {},
   "outputs": [],
   "source": [
    "metadata['doi_url'] = metadata[\"doi\"].fillna('').apply(doi_url)"
   ]
  },
  {
   "cell_type": "code",
   "execution_count": 82,
   "metadata": {},
   "outputs": [],
   "source": [
    "metadata.to_csv(\"processed_metadata.csv\",index=False)"
   ]
  },
  {
   "cell_type": "markdown",
   "metadata": {},
   "source": [
    "### Gather all the full texts and join them with the metadata\n",
    "\n",
    "Also see https://www.kaggle.com/fmitchell259/create-corona-csv-file"
   ]
  },
  {
   "cell_type": "code",
   "execution_count": 30,
   "metadata": {},
   "outputs": [],
   "source": [
    "corona_features = {\"doc_id\": [None], \"source\": [None], \"title\": [None],\n",
    "                  \"abstract\": [None], \"text_body\": [None]}\n",
    "\n",
    "corona_df = pd.DataFrame.from_dict(corona_features)"
   ]
  },
  {
   "cell_type": "code",
   "execution_count": 83,
   "metadata": {},
   "outputs": [],
   "source": [
    "json_filenames = glob.glob(f'{latest_data_path}/**/*.json', recursive=True)"
   ]
  },
  {
   "cell_type": "markdown",
   "metadata": {},
   "source": [
    "This is the total number of articles for which we have full texts, across all the sources"
   ]
  },
  {
   "cell_type": "code",
   "execution_count": 85,
   "metadata": {},
   "outputs": [
    {
     "data": {
      "text/plain": [
       "13202"
      ]
     },
     "execution_count": 85,
     "metadata": {},
     "output_type": "execute_result"
    }
   ],
   "source": [
    "len(json_filenames)"
   ]
  },
  {
   "cell_type": "code",
   "execution_count": 50,
   "metadata": {},
   "outputs": [
    {
     "data": {
      "text/plain": [
       "['../dataset/2020-03-13/pmc_custom_license/pmc_custom_license/8f8eb4f004c2002face0723f2f58cc411954d36e.json',\n",
       " '../dataset/2020-03-13/pmc_custom_license/pmc_custom_license/63f7049d200896290b38b38711113054f7ea1b50.json',\n",
       " '../dataset/2020-03-13/pmc_custom_license/pmc_custom_license/4df45b8404d9de0b376a8ae3c282a517df36fe51.json',\n",
       " '../dataset/2020-03-13/pmc_custom_license/pmc_custom_license/e0737ee93afe7b0bf06b1e3f9adf21d541dd10f0.json',\n",
       " '../dataset/2020-03-13/pmc_custom_license/pmc_custom_license/3c3572ba243d61e7631725669c8f88347fdbd5bc.json',\n",
       " '../dataset/2020-03-13/pmc_custom_license/pmc_custom_license/b277e521eb43fedeb50a08be126e76dd9bc7314a.json',\n",
       " '../dataset/2020-03-13/pmc_custom_license/pmc_custom_license/4cb9c6ef889605b3149ab8b59c8258074067ba04.json',\n",
       " '../dataset/2020-03-13/pmc_custom_license/pmc_custom_license/11a21be0569b11edf62c871f9e2561a2a5389006.json',\n",
       " '../dataset/2020-03-13/pmc_custom_license/pmc_custom_license/cf3640a2e06457c47beac679ac651bc69f7c9521.json',\n",
       " '../dataset/2020-03-13/pmc_custom_license/pmc_custom_license/12e736a64e6f0562c5360b81802cb2641033a769.json']"
      ]
     },
     "execution_count": 50,
     "metadata": {},
     "output_type": "execute_result"
    }
   ],
   "source": [
    "json_filenames[:10]"
   ]
  },
  {
   "cell_type": "code",
   "execution_count": 86,
   "metadata": {},
   "outputs": [],
   "source": [
    "def return_corona_df(json_filenames, df):\n",
    "    \n",
    "    \"\"\"\n",
    "    Create dataframe containing the article texts\n",
    "    \"\"\"\n",
    "\n",
    "    for file_name in json_filenames:\n",
    "\n",
    "        row = {\"doc_id\": None, \"source\": None, \"title\": None,\n",
    "              \"abstract\": None, \"text_body\": None}\n",
    "        \n",
    "        source_name = file_name.split('/')[-2]\n",
    "\n",
    "        with open(file_name) as json_data:\n",
    "            data = json.load(json_data)\n",
    "\n",
    "            row['doc_id'] = data['paper_id']\n",
    "            row['title'] = data['metadata']['title']\n",
    "\n",
    "            # Now need all of abstract. Put it all in \n",
    "            # a list then use str.join() to split it\n",
    "            # into paragraphs. \n",
    "\n",
    "            abstract_list = [data['abstract'][x]['text'] for x in range(len(data['abstract']) - 1)]\n",
    "            abstract = \"\\n \".join(abstract_list)\n",
    "\n",
    "            row['abstract'] = abstract\n",
    "\n",
    "            # And lastly the body of the text.\n",
    "            \n",
    "            body_list = []\n",
    "            for _ in range(len(data['body_text'])):\n",
    "                try:\n",
    "                    body_list.append(data['body_text'][_]['text'])\n",
    "                except:\n",
    "                    pass\n",
    "\n",
    "            body = \"\\n \".join(body_list)\n",
    "            \n",
    "            row['text_body'] = body\n",
    "            \n",
    "            row['source'] = source_name\n",
    "            \n",
    "            df = df.append(row, ignore_index=True)\n",
    "    \n",
    "    return df.iloc[1:]\n",
    "    "
   ]
  },
  {
   "cell_type": "code",
   "execution_count": 87,
   "metadata": {},
   "outputs": [],
   "source": [
    "corona_df_all_sources = return_corona_df(json_filenames, corona_df)"
   ]
  },
  {
   "cell_type": "code",
   "execution_count": 89,
   "metadata": {},
   "outputs": [
    {
     "data": {
      "text/plain": [
       "(13202, 5)"
      ]
     },
     "execution_count": 89,
     "metadata": {},
     "output_type": "execute_result"
    }
   ],
   "source": [
    "corona_df_all_sources.shape"
   ]
  },
  {
   "cell_type": "code",
   "execution_count": 90,
   "metadata": {},
   "outputs": [
    {
     "data": {
      "text/plain": [
       "doc_id       0\n",
       "source       0\n",
       "title        0\n",
       "abstract     0\n",
       "text_body    0\n",
       "dtype: int64"
      ]
     },
     "execution_count": 90,
     "metadata": {},
     "output_type": "execute_result"
    }
   ],
   "source": [
    "corona_df_all_sources.isna().sum()"
   ]
  },
  {
   "cell_type": "code",
   "execution_count": 91,
   "metadata": {},
   "outputs": [],
   "source": [
    "corona_df_all_sources.to_csv(\"corona_all_articles.csv\",index=False)"
   ]
  },
  {
   "cell_type": "markdown",
   "metadata": {},
   "source": [
    "### Join the datasets and save"
   ]
  },
  {
   "cell_type": "code",
   "execution_count": 93,
   "metadata": {},
   "outputs": [],
   "source": [
    "cols_to_use = metadata.columns.difference(corona_df_all_sources.columns)"
   ]
  },
  {
   "cell_type": "code",
   "execution_count": 94,
   "metadata": {},
   "outputs": [
    {
     "data": {
      "text/plain": [
       "Index(['Microsoft Academic Paper ID', 'WHO #Covidence', 'authors', 'doi',\n",
       "       'has_full_text', 'journal', 'license', 'pmcid', 'publish_time',\n",
       "       'pubmed_id', 'sha', 'source_x'],\n",
       "      dtype='object')"
      ]
     },
     "execution_count": 94,
     "metadata": {},
     "output_type": "execute_result"
    }
   ],
   "source": [
    "cols_to_use"
   ]
  },
  {
   "cell_type": "code",
   "execution_count": 95,
   "metadata": {},
   "outputs": [],
   "source": [
    "covid_dataset = metadata[cols_to_use].\\\n",
    "    merge(corona_df_all_sources,left_on=\"sha\",right_on=\"doc_id\",how=\"left\").\\\n",
    "    drop(\"doc_id\",axis=1)"
   ]
  },
  {
   "cell_type": "code",
   "execution_count": 96,
   "metadata": {},
   "outputs": [],
   "source": [
    "covid_dataset.to_csv(\"covid_full_processed.csv\",index=False)"
   ]
  }
 ],
 "metadata": {
  "kernelspec": {
   "display_name": "Python 3",
   "language": "python",
   "name": "python3"
  },
  "language_info": {
   "codemirror_mode": {
    "name": "ipython",
    "version": 3
   },
   "file_extension": ".py",
   "mimetype": "text/x-python",
   "name": "python",
   "nbconvert_exporter": "python",
   "pygments_lexer": "ipython3",
   "version": "3.6.7"
  }
 },
 "nbformat": 4,
 "nbformat_minor": 4
}
